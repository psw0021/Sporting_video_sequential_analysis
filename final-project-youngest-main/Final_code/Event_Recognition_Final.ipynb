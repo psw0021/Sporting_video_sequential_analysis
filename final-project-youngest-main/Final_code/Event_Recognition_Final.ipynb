{
 "cells": [
  {
   "cell_type": "markdown",
   "id": "04759abf",
   "metadata": {},
   "source": [
    "# 필요한 라이브러리 import"
   ]
  },
  {
   "cell_type": "code",
   "execution_count": 15,
   "id": "c24135b6",
   "metadata": {},
   "outputs": [],
   "source": [
    "import os\n",
    "import torch\n",
    "import random\n",
    "import cv2\n",
    "import torchvision\n",
    "from torch.utils.data import Dataset\n",
    "\n",
    "import datasets\n",
    "import transforms\n",
    "import glob\n",
    "from torch import nn, optim\n",
    "import torch.nn.functional as F\n",
    "from tqdm import tqdm\n",
    "\n",
    "import numpy as np\n",
    "import pandas as pd\n",
    "import matplotlib.pyplot as plt"
   ]
  },
  {
   "cell_type": "markdown",
   "id": "54001ed3",
   "metadata": {},
   "source": [
    "# GPU Setting"
   ]
  },
  {
   "cell_type": "code",
   "execution_count": 2,
   "id": "c3718e28",
   "metadata": {},
   "outputs": [
    {
     "name": "stdout",
     "output_type": "stream",
     "text": [
      "device:cuda\n"
     ]
    }
   ],
   "source": [
    "device = torch.device('cuda') if torch.cuda.is_available() else torch.device('cpu')\n",
    "print(f'device:{device}')"
   ]
  },
  {
   "cell_type": "markdown",
   "id": "c4993db7",
   "metadata": {},
   "source": [
    "# Hyperparameter Setting"
   ]
  },
  {
   "cell_type": "code",
   "execution_count": 3,
   "id": "08e33892",
   "metadata": {},
   "outputs": [],
   "source": [
    "# training\n",
    "num_epochs = 50\n",
    "lr = 1e-4\n",
    "# lr = 1e-6 for late fusion 3d cnn network\n",
    "batch_size = 10\n",
    "seed = 2022"
   ]
  },
  {
   "cell_type": "markdown",
   "id": "d20647ba",
   "metadata": {},
   "source": [
    "# Seed 설정"
   ]
  },
  {
   "cell_type": "code",
   "execution_count": 4,
   "id": "f3ee040e",
   "metadata": {},
   "outputs": [],
   "source": [
    "def seed_everything(seed: int = 42, contain_cuda: bool = False):\n",
    "    os.environ['PYTHONHASHSEED'] = str(seed)\n",
    "    random.seed(seed)\n",
    "    np.random.seed(seed)\n",
    "\n",
    "    torch.backends.cudnn.deterministic = True\n",
    "    torch.backends.cudnn.benchmark = False\n",
    "\n",
    "    torch.manual_seed(seed)\n",
    "    torch.cuda.manual_seed(seed)\n",
    "    torch.cuda.manual_seed_all(seed)\n",
    "    print(f\"Seed set as {seed}\")"
   ]
  },
  {
   "cell_type": "code",
   "execution_count": 5,
   "id": "7e85c200",
   "metadata": {},
   "outputs": [
    {
     "name": "stdout",
     "output_type": "stream",
     "text": [
      "Seed set as 2022\n"
     ]
    }
   ],
   "source": [
    "seed_everything(seed=2022)"
   ]
  },
  {
   "cell_type": "markdown",
   "id": "b3fa9939",
   "metadata": {},
   "source": [
    "# Sporting Events Dataset to Tensor"
   ]
  },
  {
   "cell_type": "code",
   "execution_count": 6,
   "id": "238098a2",
   "metadata": {},
   "outputs": [
    {
     "name": "stdout",
     "output_type": "stream",
     "text": [
      "train: 600\n",
      "train_loader: 60\n",
      "test: 150\n",
      "test_loader: 15\n"
     ]
    },
    {
     "name": "stderr",
     "output_type": "stream",
     "text": [
      "/usr/local/lib/python3.7/site-packages/torchvision/transforms/transforms.py:258: UserWarning: Argument interpolation should be of type InterpolationMode instead of int. Please, use InterpolationMode enum.\n",
      "  \"Argument interpolation should be of type InterpolationMode instead of int. \"\n"
     ]
    },
    {
     "name": "stdout",
     "output_type": "stream",
     "text": [
      "torch.Size([10, 3, 30, 64, 64]) torch.Size([10])\n",
      "torch.Size([10, 3, 30, 64, 64]) torch.Size([10])\n"
     ]
    }
   ],
   "source": [
    "train_video = datasets.VideoLabelDataset(\n",
    "            \"/root/2022-2-deeplearning-final/train_video.csv\",\n",
    "        transform=torchvision.transforms.Compose([\n",
    "            transforms.VideoFilePathToTensor(max_len=30, fps=10, padding_mode='last'),\n",
    "            transforms.VideoResize([64, 64]),\n",
    "        ])\n",
    ")\n",
    "\n",
    "test_video = datasets.VideoLabelDataset(\n",
    "            \"/root/2022-2-deeplearning-final/test_video.csv\",\n",
    "        transform=torchvision.transforms.Compose([\n",
    "            transforms.VideoFilePathToTensor(max_len=30, fps=10, padding_mode='last'),\n",
    "            transforms.VideoResize([64, 64]),\n",
    "        ])\n",
    ")\n",
    "train_loader = torch.utils.data.DataLoader(train_video, batch_size=batch_size , shuffle=True)\n",
    "test_loader = torch.utils.data.DataLoader(test_video, batch_size=batch_size , shuffle=False)\n",
    "\n",
    "print(f'train: {len(train_loader.dataset)}')\n",
    "print(f'train_loader: {len(train_loader)}')\n",
    "\n",
    "print(f'test: {len(test_loader.dataset)}')\n",
    "print(f'test_loader: {len(test_loader)}')\n",
    "\n",
    "\n",
    "# train set 데이터 확인하기\n",
    "images, labels = next(iter(train_loader))\n",
    "test, labels_test = next(iter(test_loader))\n",
    "print(images.shape, labels.shape)\n",
    "print(test.shape, labels_test.shape)"
   ]
  },
  {
   "cell_type": "markdown",
   "id": "7022c8a8",
   "metadata": {},
   "source": [
    "# HyperParameters for CNN+GRU Model and Late_Fusion 3D convolution model"
   ]
  },
  {
   "cell_type": "code",
   "execution_count": 7,
   "id": "71d7014e",
   "metadata": {},
   "outputs": [],
   "source": [
    "hidden_size = 256\n",
    "num_layers = 1\n",
    "input_size = 128 * 6 * 6\n",
    "num_classes = 10"
   ]
  },
  {
   "cell_type": "markdown",
   "id": "dfd09273",
   "metadata": {},
   "source": [
    "# Model 정의(CNN과 GRU(LSTM)를 혼합한 모델)"
   ]
  },
  {
   "cell_type": "code",
   "execution_count": 8,
   "id": "936e8a1b",
   "metadata": {},
   "outputs": [],
   "source": [
    "class CNN_GRU(nn.Module):\n",
    "    def __init__(self, batch_size, hidden_size, input_size, num_layers, num_class):\n",
    "        super(CNN_GRU, self).__init__()\n",
    "        # First, process CNN to extract features from each image\n",
    "        self.layer1 = nn.Sequential(\n",
    "            nn.Conv3d(in_channels=3, out_channels=32, kernel_size= (1, 3, 3) , padding=(0, 1, 1)),\n",
    "            nn.ReLU(),\n",
    "            nn.MaxPool3d(kernel_size=(1, 2, 2), stride = (1, 2, 2)))\n",
    "        self.layer2 = nn.Sequential(\n",
    "            nn.Conv3d(in_channels=32, out_channels=64, kernel_size=(1, 3, 3)),\n",
    "            nn.ReLU(),\n",
    "            nn.MaxPool3d(kernel_size=(1, 2, 2), stride = (1, 2, 2)))\n",
    "        self.layer3 = nn.Sequential(nn.Conv3d(in_channels=64, out_channels=128, kernel_size= (1, 4, 4)),\n",
    "            nn.ReLU(),\n",
    "            nn.MaxPool3d(kernel_size=(1, 2, 2), stride = (1, 2, 2)))\n",
    "        \n",
    "        # process the recurrent neural network algorithm\n",
    "        self.batch_size = batch_size\n",
    "        self.hidden_size = hidden_size\n",
    "        self.input_size = input_size\n",
    "        self.num_layers = num_layers\n",
    "        self.gru = nn.GRU(input_size, hidden_size, num_layers, batch_first = True)\n",
    "        self.fully_connected_layer = nn.Linear(hidden_size, num_classes)\n",
    "    \n",
    "    def forward(self, image):\n",
    "        out = self.layer1(image)\n",
    "        out2 = self.layer2(out)\n",
    "        out3 = self.layer3(out2)\n",
    "        \n",
    "        result_of_CNN = out3.reshape(out3.size(0), out3.shape[2], -1)\n",
    "        # 이부분이 살짝 헷갈려서 체크해주세요!!\n",
    "        initial_hidden_state = torch.zeros(self.num_layers, result_of_CNN.size(0), self.hidden_size).to(device)\n",
    "        \n",
    "        \n",
    "        # use this code below when we are implementing LSTM\n",
    "        # initial_cell_state = torch.zeros(self.num_layers, result_of_CNN.size(0), self.hidden_size).to(device)\n",
    "        self.gru.flatten_parameters()\n",
    "        output, _ = self.gru(result_of_CNN, initial_hidden_state)\n",
    "        \n",
    "        return self.fully_connected_layer(output[:,-1,:])\n",
    "        "
   ]
  },
  {
   "cell_type": "markdown",
   "id": "98b28491",
   "metadata": {},
   "source": [
    "# 제2 모델 정의(Late Fuse 3d convolution을 이용한 비디오 classification)"
   ]
  },
  {
   "cell_type": "code",
   "execution_count": 9,
   "id": "014fec9a",
   "metadata": {},
   "outputs": [],
   "source": [
    "class Video_Recognition_Convolution(nn.Module):\n",
    "    def __init__(self, num_class):\n",
    "        super(Video_Recognition_Convolution, self).__init__()\n",
    "        \n",
    "         # First, process CNN to extract features from each image\n",
    "        self.layer1 = nn.Sequential(\n",
    "            nn.Conv3d(in_channels=3, out_channels=64, kernel_size= (7, 3, 3) , padding=(0, 1, 1)),\n",
    "            nn.BatchNorm3d(64),\n",
    "            nn.ReLU(),\n",
    "            nn.MaxPool3d(kernel_size=(2, 2, 2), stride = (2, 2, 2)))\n",
    "        self.layer2 = nn.Sequential(\n",
    "            nn.Conv3d(in_channels=64, out_channels=128, kernel_size=(5, 3, 3)),\n",
    "            nn.BatchNorm3d(128),\n",
    "            nn.ReLU(),\n",
    "            nn.MaxPool3d(kernel_size=(2, 2, 2), stride = (2, 2, 2)))\n",
    "        self.layer3 = nn.Sequential(nn.Conv3d(in_channels=128, out_channels=256, kernel_size= (3, 4, 4)),\n",
    "            nn.BatchNorm3d(256),\n",
    "            nn.ReLU(),\n",
    "            nn.MaxPool3d(kernel_size=(2, 2, 2), stride = (2, 2, 2)))\n",
    "        \n",
    "        self.flatten_1 = nn.Linear(256 * 6 * 6, 256 * 6)\n",
    "        self.flatten_2 = nn.Linear(256 * 6, 256)\n",
    "        self.flatten_3 = nn.Linear(256, num_class)\n",
    "        \n",
    "        self.relu = nn.ReLU()\n",
    "        \n",
    "        self.dropout = nn.Dropout(0.2)\n",
    "        \n",
    "    def forward(self, frame):\n",
    "        frame1 = self.layer1(frame)\n",
    "        frame2 = self.layer2(frame1)\n",
    "        frame3 = self.layer3(frame2)\n",
    "        \n",
    "        Conv_Output = frame3.reshape(frame3.shape[0], -1)\n",
    "        \n",
    "        flat_frame1 = self.flatten_1(Conv_Output)\n",
    "        flate_frame1 = self.relu(flat_frame1)\n",
    "        flat_frame2 = self.flatten_2(flat_frame1)\n",
    "        flat_frame2 = self.relu(flat_frame2)\n",
    "        flat_frame3 = self.flatten_3(flat_frame2)\n",
    "        flat_frame3 = self.relu(flat_frame3)\n",
    "        final_output = self.dropout(flat_frame3)\n",
    "        \n",
    "        return final_output"
   ]
  },
  {
   "cell_type": "markdown",
   "id": "28d30379",
   "metadata": {},
   "source": [
    "# Xavier initialization"
   ]
  },
  {
   "cell_type": "code",
   "execution_count": 9,
   "id": "29375866",
   "metadata": {},
   "outputs": [],
   "source": [
    "def init_weights(m):\n",
    "    if isinstance(m, nn.Linear):\n",
    "        nn.init.xavier_uniform_(m.weight)\n",
    "        m.bias.data.fill_(0.01)"
   ]
  },
  {
   "cell_type": "markdown",
   "id": "c96cbcc7",
   "metadata": {},
   "source": [
    "# Model, Optimizer, Scheduler setting"
   ]
  },
  {
   "cell_type": "code",
   "execution_count": 10,
   "id": "525dc6d9",
   "metadata": {},
   "outputs": [],
   "source": [
    "model = CNN_GRU(batch_size, hidden_size, input_size, num_layers, num_classes).to(device)\n",
    "#model = Video_Recognition_Convolution(num_classes).to(device)\n",
    "model.apply(init_weights)\n",
    "\n",
    "if torch.cuda.device_count() > 1:\n",
    "    model = nn.DataParallel(model)\n",
    "\n",
    "loss_func = nn.CrossEntropyLoss()\n",
    "optimizer = optim.AdamW(model.parameters(), lr=lr)\n",
    "scheduler = optim.lr_scheduler.LambdaLR(optimizer=optimizer, lr_lambda=lambda epoch: 0.95 ** epoch, last_epoch=-1, verbose=False)\n",
    "# scheduler = optim.lr_scheduler.MultiStepLR(optimizer, milestones=[100, 150], gamma=0.5)"
   ]
  },
  {
   "cell_type": "markdown",
   "id": "2e9d51b9",
   "metadata": {},
   "source": [
    "# Loss, accuracy 저장을 위한 세팅"
   ]
  },
  {
   "cell_type": "code",
   "execution_count": 11,
   "id": "9f19af3c",
   "metadata": {},
   "outputs": [],
   "source": [
    "running_loss_history = []\n",
    "running_corrects_history = []\n",
    "test_running_loss_history = []\n",
    "test_running_corrects_history = []\n",
    "lr_running_history = []\n",
    "average_accuracy_of_class_epoch = []\n",
    "num_epochs_class = []"
   ]
  },
  {
   "cell_type": "markdown",
   "id": "b5346d76",
   "metadata": {},
   "source": [
    "# class-wise-test-accuracy"
   ]
  },
  {
   "cell_type": "code",
   "execution_count": 12,
   "id": "3d7baff5",
   "metadata": {},
   "outputs": [],
   "source": [
    "def Check_Accuracy(image_prediction, test_target, correct_list, incorrect_list):\n",
    "    num_samples_batch = len(image_prediction)\n",
    "    for i in range(0, num_samples_batch):\n",
    "        class_index = image_prediction[i]\n",
    "        if image_prediction[i] == test_target[i]:\n",
    "            correct_list[class_index] = correct_list[class_index] + 1\n",
    "        else:\n",
    "            incorrect_list[class_index] = incorrect_list[class_index] + 1\n",
    "            \n",
    "    return correct_list, incorrect_list"
   ]
  },
  {
   "cell_type": "code",
   "execution_count": 13,
   "id": "13660478",
   "metadata": {},
   "outputs": [],
   "source": [
    "def Get_Average(correct_list, incorrect_list, num_class):\n",
    "    answer = 0\n",
    "    for i in range(0, num_class):\n",
    "        if correct_list[i] + incorrect_list[i] != 0:\n",
    "            answer = answer + (correct_list[i]/ (correct_list[i] + incorrect_list[i]))\n",
    "        \n",
    "    answer = answer / num_class\n",
    "    \n",
    "    return answer"
   ]
  },
  {
   "cell_type": "markdown",
   "id": "a537bdce",
   "metadata": {},
   "source": [
    "# 학습 및 각 epoch에 대한 train/test loss, accuracy 출력"
   ]
  },
  {
   "cell_type": "code",
   "execution_count": 14,
   "id": "ba0165ad",
   "metadata": {},
   "outputs": [
    {
     "name": "stderr",
     "output_type": "stream",
     "text": [
      "epoch:   0%|          | 0/50 [00:00<?, ?it/s]\n",
      "train:   0%|          | 0/60 [00:15<?, ?it/s]\u001b[A\n",
      "epoch:   0%|          | 0/50 [00:15<?, ?it/s]\n"
     ]
    },
    {
     "ename": "RuntimeError",
     "evalue": "Caught RuntimeError in replica 0 on device 0.\nOriginal Traceback (most recent call last):\n  File \"/usr/local/lib/python3.7/site-packages/torch/nn/parallel/parallel_apply.py\", line 61, in _worker\n    output = module(*input, **kwargs)\n  File \"/usr/local/lib/python3.7/site-packages/torch/nn/modules/module.py\", line 889, in _call_impl\n    result = self.forward(*input, **kwargs)\n  File \"/tmp/ipykernel_217/3804200486.py\", line 38, in forward\n    output, _ = self.gru(result_of_CNN, initial_hidden_state)\n  File \"/usr/local/lib/python3.7/site-packages/torch/nn/modules/module.py\", line 889, in _call_impl\n    result = self.forward(*input, **kwargs)\n  File \"/usr/local/lib/python3.7/site-packages/torch/nn/modules/rnn.py\", line 819, in forward\n    self.check_forward_args(input, hx, batch_sizes)\n  File \"/usr/local/lib/python3.7/site-packages/torch/nn/modules/rnn.py\", line 226, in check_forward_args\n    self.check_input(input, batch_sizes)\n  File \"/usr/local/lib/python3.7/site-packages/torch/nn/modules/rnn.py\", line 204, in check_input\n    self.input_size, input.size(-1)))\nRuntimeError: input.size(-1) must be equal to input_size. Expected 18432, got 4608\n",
     "output_type": "error",
     "traceback": [
      "\u001b[0;31m---------------------------------------------------------------------------\u001b[0m",
      "\u001b[0;31mRuntimeError\u001b[0m                              Traceback (most recent call last)",
      "\u001b[0;32m/tmp/ipykernel_217/3826370829.py\u001b[0m in \u001b[0;36m<module>\u001b[0;34m\u001b[0m\n\u001b[1;32m     15\u001b[0m         \u001b[0minputs\u001b[0m\u001b[0;34m,\u001b[0m \u001b[0mlabels\u001b[0m \u001b[0;34m=\u001b[0m \u001b[0minputs\u001b[0m\u001b[0;34m.\u001b[0m\u001b[0mto\u001b[0m\u001b[0;34m(\u001b[0m\u001b[0mdevice\u001b[0m\u001b[0;34m)\u001b[0m\u001b[0;34m,\u001b[0m \u001b[0mlabels\u001b[0m\u001b[0;34m.\u001b[0m\u001b[0mto\u001b[0m\u001b[0;34m(\u001b[0m\u001b[0mdevice\u001b[0m\u001b[0;34m)\u001b[0m\u001b[0;34m\u001b[0m\u001b[0;34m\u001b[0m\u001b[0m\n\u001b[1;32m     16\u001b[0m         \u001b[0;31m# feedforward\u001b[0m\u001b[0;34m\u001b[0m\u001b[0;34m\u001b[0m\u001b[0;34m\u001b[0m\u001b[0m\n\u001b[0;32m---> 17\u001b[0;31m         \u001b[0moutputs\u001b[0m \u001b[0;34m=\u001b[0m \u001b[0mmodel\u001b[0m\u001b[0;34m(\u001b[0m\u001b[0minputs\u001b[0m\u001b[0;34m)\u001b[0m\u001b[0;34m\u001b[0m\u001b[0;34m\u001b[0m\u001b[0m\n\u001b[0m\u001b[1;32m     18\u001b[0m         \u001b[0;31m# loss를 계산\u001b[0m\u001b[0;34m\u001b[0m\u001b[0;34m\u001b[0m\u001b[0;34m\u001b[0m\u001b[0m\n\u001b[1;32m     19\u001b[0m         \u001b[0mloss\u001b[0m \u001b[0;34m=\u001b[0m \u001b[0mloss_func\u001b[0m\u001b[0;34m(\u001b[0m\u001b[0moutputs\u001b[0m\u001b[0;34m,\u001b[0m \u001b[0mlabels\u001b[0m\u001b[0;34m)\u001b[0m\u001b[0;34m\u001b[0m\u001b[0;34m\u001b[0m\u001b[0m\n",
      "\u001b[0;32m/usr/local/lib/python3.7/site-packages/torch/nn/modules/module.py\u001b[0m in \u001b[0;36m_call_impl\u001b[0;34m(self, *input, **kwargs)\u001b[0m\n\u001b[1;32m    887\u001b[0m             \u001b[0mresult\u001b[0m \u001b[0;34m=\u001b[0m \u001b[0mself\u001b[0m\u001b[0;34m.\u001b[0m\u001b[0m_slow_forward\u001b[0m\u001b[0;34m(\u001b[0m\u001b[0;34m*\u001b[0m\u001b[0minput\u001b[0m\u001b[0;34m,\u001b[0m \u001b[0;34m**\u001b[0m\u001b[0mkwargs\u001b[0m\u001b[0;34m)\u001b[0m\u001b[0;34m\u001b[0m\u001b[0;34m\u001b[0m\u001b[0m\n\u001b[1;32m    888\u001b[0m         \u001b[0;32melse\u001b[0m\u001b[0;34m:\u001b[0m\u001b[0;34m\u001b[0m\u001b[0;34m\u001b[0m\u001b[0m\n\u001b[0;32m--> 889\u001b[0;31m             \u001b[0mresult\u001b[0m \u001b[0;34m=\u001b[0m \u001b[0mself\u001b[0m\u001b[0;34m.\u001b[0m\u001b[0mforward\u001b[0m\u001b[0;34m(\u001b[0m\u001b[0;34m*\u001b[0m\u001b[0minput\u001b[0m\u001b[0;34m,\u001b[0m \u001b[0;34m**\u001b[0m\u001b[0mkwargs\u001b[0m\u001b[0;34m)\u001b[0m\u001b[0;34m\u001b[0m\u001b[0;34m\u001b[0m\u001b[0m\n\u001b[0m\u001b[1;32m    890\u001b[0m         for hook in itertools.chain(\n\u001b[1;32m    891\u001b[0m                 \u001b[0m_global_forward_hooks\u001b[0m\u001b[0;34m.\u001b[0m\u001b[0mvalues\u001b[0m\u001b[0;34m(\u001b[0m\u001b[0;34m)\u001b[0m\u001b[0;34m,\u001b[0m\u001b[0;34m\u001b[0m\u001b[0;34m\u001b[0m\u001b[0m\n",
      "\u001b[0;32m/usr/local/lib/python3.7/site-packages/torch/nn/parallel/data_parallel.py\u001b[0m in \u001b[0;36mforward\u001b[0;34m(self, *inputs, **kwargs)\u001b[0m\n\u001b[1;32m    165\u001b[0m             \u001b[0;32mreturn\u001b[0m \u001b[0mself\u001b[0m\u001b[0;34m.\u001b[0m\u001b[0mmodule\u001b[0m\u001b[0;34m(\u001b[0m\u001b[0;34m*\u001b[0m\u001b[0minputs\u001b[0m\u001b[0;34m[\u001b[0m\u001b[0;36m0\u001b[0m\u001b[0;34m]\u001b[0m\u001b[0;34m,\u001b[0m \u001b[0;34m**\u001b[0m\u001b[0mkwargs\u001b[0m\u001b[0;34m[\u001b[0m\u001b[0;36m0\u001b[0m\u001b[0;34m]\u001b[0m\u001b[0;34m)\u001b[0m\u001b[0;34m\u001b[0m\u001b[0;34m\u001b[0m\u001b[0m\n\u001b[1;32m    166\u001b[0m         \u001b[0mreplicas\u001b[0m \u001b[0;34m=\u001b[0m \u001b[0mself\u001b[0m\u001b[0;34m.\u001b[0m\u001b[0mreplicate\u001b[0m\u001b[0;34m(\u001b[0m\u001b[0mself\u001b[0m\u001b[0;34m.\u001b[0m\u001b[0mmodule\u001b[0m\u001b[0;34m,\u001b[0m \u001b[0mself\u001b[0m\u001b[0;34m.\u001b[0m\u001b[0mdevice_ids\u001b[0m\u001b[0;34m[\u001b[0m\u001b[0;34m:\u001b[0m\u001b[0mlen\u001b[0m\u001b[0;34m(\u001b[0m\u001b[0minputs\u001b[0m\u001b[0;34m)\u001b[0m\u001b[0;34m]\u001b[0m\u001b[0;34m)\u001b[0m\u001b[0;34m\u001b[0m\u001b[0;34m\u001b[0m\u001b[0m\n\u001b[0;32m--> 167\u001b[0;31m         \u001b[0moutputs\u001b[0m \u001b[0;34m=\u001b[0m \u001b[0mself\u001b[0m\u001b[0;34m.\u001b[0m\u001b[0mparallel_apply\u001b[0m\u001b[0;34m(\u001b[0m\u001b[0mreplicas\u001b[0m\u001b[0;34m,\u001b[0m \u001b[0minputs\u001b[0m\u001b[0;34m,\u001b[0m \u001b[0mkwargs\u001b[0m\u001b[0;34m)\u001b[0m\u001b[0;34m\u001b[0m\u001b[0;34m\u001b[0m\u001b[0m\n\u001b[0m\u001b[1;32m    168\u001b[0m         \u001b[0;32mreturn\u001b[0m \u001b[0mself\u001b[0m\u001b[0;34m.\u001b[0m\u001b[0mgather\u001b[0m\u001b[0;34m(\u001b[0m\u001b[0moutputs\u001b[0m\u001b[0;34m,\u001b[0m \u001b[0mself\u001b[0m\u001b[0;34m.\u001b[0m\u001b[0moutput_device\u001b[0m\u001b[0;34m)\u001b[0m\u001b[0;34m\u001b[0m\u001b[0;34m\u001b[0m\u001b[0m\n\u001b[1;32m    169\u001b[0m \u001b[0;34m\u001b[0m\u001b[0m\n",
      "\u001b[0;32m/usr/local/lib/python3.7/site-packages/torch/nn/parallel/data_parallel.py\u001b[0m in \u001b[0;36mparallel_apply\u001b[0;34m(self, replicas, inputs, kwargs)\u001b[0m\n\u001b[1;32m    175\u001b[0m \u001b[0;34m\u001b[0m\u001b[0m\n\u001b[1;32m    176\u001b[0m     \u001b[0;32mdef\u001b[0m \u001b[0mparallel_apply\u001b[0m\u001b[0;34m(\u001b[0m\u001b[0mself\u001b[0m\u001b[0;34m,\u001b[0m \u001b[0mreplicas\u001b[0m\u001b[0;34m,\u001b[0m \u001b[0minputs\u001b[0m\u001b[0;34m,\u001b[0m \u001b[0mkwargs\u001b[0m\u001b[0;34m)\u001b[0m\u001b[0;34m:\u001b[0m\u001b[0;34m\u001b[0m\u001b[0;34m\u001b[0m\u001b[0m\n\u001b[0;32m--> 177\u001b[0;31m         \u001b[0;32mreturn\u001b[0m \u001b[0mparallel_apply\u001b[0m\u001b[0;34m(\u001b[0m\u001b[0mreplicas\u001b[0m\u001b[0;34m,\u001b[0m \u001b[0minputs\u001b[0m\u001b[0;34m,\u001b[0m \u001b[0mkwargs\u001b[0m\u001b[0;34m,\u001b[0m \u001b[0mself\u001b[0m\u001b[0;34m.\u001b[0m\u001b[0mdevice_ids\u001b[0m\u001b[0;34m[\u001b[0m\u001b[0;34m:\u001b[0m\u001b[0mlen\u001b[0m\u001b[0;34m(\u001b[0m\u001b[0mreplicas\u001b[0m\u001b[0;34m)\u001b[0m\u001b[0;34m]\u001b[0m\u001b[0;34m)\u001b[0m\u001b[0;34m\u001b[0m\u001b[0;34m\u001b[0m\u001b[0m\n\u001b[0m\u001b[1;32m    178\u001b[0m \u001b[0;34m\u001b[0m\u001b[0m\n\u001b[1;32m    179\u001b[0m     \u001b[0;32mdef\u001b[0m \u001b[0mgather\u001b[0m\u001b[0;34m(\u001b[0m\u001b[0mself\u001b[0m\u001b[0;34m,\u001b[0m \u001b[0moutputs\u001b[0m\u001b[0;34m,\u001b[0m \u001b[0moutput_device\u001b[0m\u001b[0;34m)\u001b[0m\u001b[0;34m:\u001b[0m\u001b[0;34m\u001b[0m\u001b[0;34m\u001b[0m\u001b[0m\n",
      "\u001b[0;32m/usr/local/lib/python3.7/site-packages/torch/nn/parallel/parallel_apply.py\u001b[0m in \u001b[0;36mparallel_apply\u001b[0;34m(modules, inputs, kwargs_tup, devices)\u001b[0m\n\u001b[1;32m     84\u001b[0m         \u001b[0moutput\u001b[0m \u001b[0;34m=\u001b[0m \u001b[0mresults\u001b[0m\u001b[0;34m[\u001b[0m\u001b[0mi\u001b[0m\u001b[0;34m]\u001b[0m\u001b[0;34m\u001b[0m\u001b[0;34m\u001b[0m\u001b[0m\n\u001b[1;32m     85\u001b[0m         \u001b[0;32mif\u001b[0m \u001b[0misinstance\u001b[0m\u001b[0;34m(\u001b[0m\u001b[0moutput\u001b[0m\u001b[0;34m,\u001b[0m \u001b[0mExceptionWrapper\u001b[0m\u001b[0;34m)\u001b[0m\u001b[0;34m:\u001b[0m\u001b[0;34m\u001b[0m\u001b[0;34m\u001b[0m\u001b[0m\n\u001b[0;32m---> 86\u001b[0;31m             \u001b[0moutput\u001b[0m\u001b[0;34m.\u001b[0m\u001b[0mreraise\u001b[0m\u001b[0;34m(\u001b[0m\u001b[0;34m)\u001b[0m\u001b[0;34m\u001b[0m\u001b[0;34m\u001b[0m\u001b[0m\n\u001b[0m\u001b[1;32m     87\u001b[0m         \u001b[0moutputs\u001b[0m\u001b[0;34m.\u001b[0m\u001b[0mappend\u001b[0m\u001b[0;34m(\u001b[0m\u001b[0moutput\u001b[0m\u001b[0;34m)\u001b[0m\u001b[0;34m\u001b[0m\u001b[0;34m\u001b[0m\u001b[0m\n\u001b[1;32m     88\u001b[0m     \u001b[0;32mreturn\u001b[0m \u001b[0moutputs\u001b[0m\u001b[0;34m\u001b[0m\u001b[0;34m\u001b[0m\u001b[0m\n",
      "\u001b[0;32m/usr/local/lib/python3.7/site-packages/torch/_utils.py\u001b[0m in \u001b[0;36mreraise\u001b[0;34m(self)\u001b[0m\n\u001b[1;32m    427\u001b[0m             \u001b[0;31m# have message field\u001b[0m\u001b[0;34m\u001b[0m\u001b[0;34m\u001b[0m\u001b[0;34m\u001b[0m\u001b[0m\n\u001b[1;32m    428\u001b[0m             \u001b[0;32mraise\u001b[0m \u001b[0mself\u001b[0m\u001b[0;34m.\u001b[0m\u001b[0mexc_type\u001b[0m\u001b[0;34m(\u001b[0m\u001b[0mmessage\u001b[0m\u001b[0;34m=\u001b[0m\u001b[0mmsg\u001b[0m\u001b[0;34m)\u001b[0m\u001b[0;34m\u001b[0m\u001b[0;34m\u001b[0m\u001b[0m\n\u001b[0;32m--> 429\u001b[0;31m         \u001b[0;32mraise\u001b[0m \u001b[0mself\u001b[0m\u001b[0;34m.\u001b[0m\u001b[0mexc_type\u001b[0m\u001b[0;34m(\u001b[0m\u001b[0mmsg\u001b[0m\u001b[0;34m)\u001b[0m\u001b[0;34m\u001b[0m\u001b[0;34m\u001b[0m\u001b[0m\n\u001b[0m\u001b[1;32m    430\u001b[0m \u001b[0;34m\u001b[0m\u001b[0m\n\u001b[1;32m    431\u001b[0m \u001b[0;34m\u001b[0m\u001b[0m\n",
      "\u001b[0;31mRuntimeError\u001b[0m: Caught RuntimeError in replica 0 on device 0.\nOriginal Traceback (most recent call last):\n  File \"/usr/local/lib/python3.7/site-packages/torch/nn/parallel/parallel_apply.py\", line 61, in _worker\n    output = module(*input, **kwargs)\n  File \"/usr/local/lib/python3.7/site-packages/torch/nn/modules/module.py\", line 889, in _call_impl\n    result = self.forward(*input, **kwargs)\n  File \"/tmp/ipykernel_217/3804200486.py\", line 38, in forward\n    output, _ = self.gru(result_of_CNN, initial_hidden_state)\n  File \"/usr/local/lib/python3.7/site-packages/torch/nn/modules/module.py\", line 889, in _call_impl\n    result = self.forward(*input, **kwargs)\n  File \"/usr/local/lib/python3.7/site-packages/torch/nn/modules/rnn.py\", line 819, in forward\n    self.check_forward_args(input, hx, batch_sizes)\n  File \"/usr/local/lib/python3.7/site-packages/torch/nn/modules/rnn.py\", line 226, in check_forward_args\n    self.check_input(input, batch_sizes)\n  File \"/usr/local/lib/python3.7/site-packages/torch/nn/modules/rnn.py\", line 204, in check_input\n    self.input_size, input.size(-1)))\nRuntimeError: input.size(-1) must be equal to input_size. Expected 18432, got 4608\n"
     ]
    }
   ],
   "source": [
    "x = 0\n",
    "for epoch in tqdm(range(num_epochs), desc = 'epoch'):\n",
    "    running_loss, test_running_loss = 0.0, 0.0\n",
    "    running_corrects, test_running_corrects = 0.0, 0.0\n",
    "    \n",
    "    correct_class_prediction = [0, 0, 0, 0, 0, 0, 0, 0, 0, 0]\n",
    "    incorrect_class_prediction = [0, 0, 0, 0, 0, 0, 0, 0, 0, 0]\n",
    "    \n",
    "    # process of getting x values for average accuracy for class for each epoch\n",
    "    x = x + 1\n",
    "    num_epochs_class.append(x)\n",
    "    \n",
    "    model.train()    \n",
    "    for inputs, labels in tqdm(train_loader, desc = 'train'):\n",
    "        inputs, labels = inputs.to(device), labels.to(device)\n",
    "        # feedforward\n",
    "        outputs = model(inputs)\n",
    "        # loss를 계산\n",
    "        loss = loss_func(outputs, labels)\n",
    "        # gradient 초기화\n",
    "        optimizer.zero_grad()\n",
    "        # backpropagation\n",
    "        loss.backward()\n",
    "        # weight update\n",
    "        optimizer.step()\n",
    "        \n",
    "        _, preds = torch.max(outputs, 1)\n",
    "        running_loss += loss.item()\n",
    "        running_corrects += torch.sum(preds == labels.data)\n",
    "    \n",
    "    epoch_loss = running_loss/len(train_loader)\n",
    "    running_loss_history.append(epoch_loss)\n",
    "    \n",
    "    epoch_acc = running_corrects/len(train_loader.dataset)\n",
    "    running_corrects_history.append(epoch_acc)\n",
    "    \n",
    "    print('training loss : {:4f}, acc : {:4f},'.format(epoch_loss, epoch_acc))\n",
    "    with torch.no_grad():\n",
    "        model.eval()\n",
    "        for test_inputs, test_labels in tqdm(test_loader, desc = 'test'):\n",
    "            test_inputs, test_labels = test_inputs.to(device), test_labels.to(device)\n",
    "            test_outputs = model(test_inputs)\n",
    "            test_loss = loss_func(test_outputs, test_labels)\n",
    "            \n",
    "            _, test_preds = torch.max(test_outputs, 1)\n",
    "            \n",
    "            test_running_loss += test_loss.item()\n",
    "            test_running_corrects += torch.sum(test_preds==test_labels.data)\n",
    "            \n",
    "            correct_class_prediction, incorrect_class_prediction = Check_Accuracy(test_preds, test_labels, correct_class_prediction, incorrect_class_prediction)\n",
    "    \n",
    "    mean = Get_Average(correct_class_prediction, incorrect_class_prediction, 10)\n",
    "    average_accuracy_of_class_epoch.append(mean)\n",
    "    \n",
    "    test_epoch_loss = test_running_loss / len(test_loader)\n",
    "    test_running_loss_history.append(test_epoch_loss)\n",
    "    \n",
    "    test_epoch_acc = test_running_corrects / len(test_loader.dataset)\n",
    "    test_running_corrects_history.append(test_epoch_acc)\n",
    "    \n",
    "\n",
    "    \n",
    "    print('test loss : {:4f}, acc : {:4f}'.format(test_epoch_loss, test_epoch_acc))\n",
    "    scheduler.step()\n",
    "    lr_running_history.append(scheduler.get_last_lr())\n",
    "    print(f'learning rate : { scheduler.get_last_lr() }')"
   ]
  },
  {
   "cell_type": "markdown",
   "id": "1e3f1578",
   "metadata": {},
   "source": [
    "# Loss 그래프(train, test)"
   ]
  },
  {
   "cell_type": "code",
   "execution_count": 33,
   "id": "ed9be86e",
   "metadata": {},
   "outputs": [
    {
     "data": {
      "text/plain": [
       "<matplotlib.legend.Legend at 0x7f7b32c04190>"
      ]
     },
     "execution_count": 33,
     "metadata": {},
     "output_type": "execute_result"
    },
    {
     "data": {
      "image/png": "[encoded data removed]",
      "text/plain": [
       "<Figure size 432x288 with 1 Axes>"
      ]
     },
     "metadata": {
      "needs_background": "light"
     },
     "output_type": "display_data"
    }
   ],
   "source": [
    "plt.plot(running_loss_history, label='training loss')\n",
    "plt.plot(test_running_loss_history, label='test loss')\n",
    "plt.legend()"
   ]
  },
  {
   "cell_type": "markdown",
   "id": "574f6be9",
   "metadata": {},
   "source": [
    "# Accuracy 그래프(train, test)"
   ]
  },
  {
   "cell_type": "code",
   "execution_count": 34,
   "id": "0dce965f",
   "metadata": {},
   "outputs": [
    {
     "data": {
      "text/plain": [
       "<matplotlib.legend.Legend at 0x7f7b32d713d0>"
      ]
     },
     "execution_count": 34,
     "metadata": {},
     "output_type": "execute_result"
    },
    {
     "data": {
      "image/png": "[encoded data removed]",
      "text/plain": [
       "<Figure size 432x288 with 1 Axes>"
      ]
     },
     "metadata": {
      "needs_background": "light"
     },
     "output_type": "display_data"
    }
   ],
   "source": [
    "plt.plot(running_corrects_history, label='training acc')\n",
    "plt.plot(test_running_corrects_history, label='test acc')\n",
    "plt.legend()"
   ]
  },
  {
   "cell_type": "markdown",
   "id": "994312f4",
   "metadata": {},
   "source": [
    "# lr 그래프"
   ]
  },
  {
   "cell_type": "code",
   "execution_count": 35,
   "id": "955b649e",
   "metadata": {},
   "outputs": [
    {
     "data": {
      "text/plain": [
       "[<matplotlib.lines.Line2D at 0x7f7b32a99dd0>]"
      ]
     },
     "execution_count": 35,
     "metadata": {},
     "output_type": "execute_result"
    },
    {
     "data": {
      "image/png": "[encoded data removed]",
      "text/plain": [
       "<Figure size 432x288 with 1 Axes>"
      ]
     },
     "metadata": {
      "needs_background": "light"
     },
     "output_type": "display_data"
    }
   ],
   "source": [
    "plt.plot(lr_running_history, label='learning rate')"
   ]
  },
  {
   "cell_type": "markdown",
   "id": "ea8c602b",
   "metadata": {},
   "source": [
    "# test set에 대한 class 별 accuracy"
   ]
  },
  {
   "cell_type": "code",
   "execution_count": 36,
   "id": "5ea88f4a",
   "metadata": {},
   "outputs": [
    {
     "data": {
      "image/png": "[encoded data removed]",
      "text/plain": [
       "<Figure size 432x288 with 1 Axes>"
      ]
     },
     "metadata": {
      "needs_background": "light"
     },
     "output_type": "display_data"
    }
   ],
   "source": [
    "list_of_sporting_events_class = ['Archery','Basketball','Bowling','Diving','HulaHoop','Kayaking',\n",
    "                        'Pushups','Skiing','SkyDiving','SoccerJuggling']\n",
    "\n",
    "final_class_accuracy_list = []\n",
    "\n",
    "for i in range(0, 10):\n",
    "    if correct_class_prediction[i] + incorrect_class_prediction[i] != 0:\n",
    "        acc = correct_class_prediction[i] / (correct_class_prediction[i] + incorrect_class_prediction[i])\n",
    "        final_class_accuracy_list.append(acc)\n",
    "    else:\n",
    "        final_class_accuracy_list.append(0)\n",
    "\n",
    "# show the accuracy graph of each kimchi class obtained through CNN model\n",
    "interval = np.arange(10)\n",
    "plt.xticks(interval, list_of_sporting_events_class)\n",
    "plt.bar(interval, final_class_accuracy_list)\n",
    "plt.show()"
   ]
  },
  {
   "cell_type": "code",
   "execution_count": 37,
   "id": "e2e3f507",
   "metadata": {},
   "outputs": [
    {
     "data": {
      "image/png": "[encoded data removed]",
      "text/plain": [
       "<Figure size 432x288 with 1 Axes>"
      ]
     },
     "metadata": {
      "needs_background": "light"
     },
     "output_type": "display_data"
    }
   ],
   "source": [
    "plt.plot(num_epochs_class, average_accuracy_of_class_epoch)\n",
    "plt.xlabel(\"number_of_epochs\")\n",
    "plt.ylabel(\"average accuracy of classes\")\n",
    "plt.title(\"average accuracy of classes according to epoch processed\")\n",
    "plt.show()"
   ]
  },
  {
   "cell_type": "code",
   "execution_count": null,
   "id": "df48f632",
   "metadata": {},
   "outputs": [],
   "source": []
  }
 ],
 "metadata": {
  "kernelspec": {
   "display_name": "Full on Python 3.7 (GPU)",
   "language": "python",
   "name": "python3"
  },
  "language_info": {
   "codemirror_mode": {
    "name": "ipython",
    "version": 3
   },
   "file_extension": ".py",
   "mimetype": "text/x-python",
   "name": "python",
   "nbconvert_exporter": "python",
   "pygments_lexer": "ipython3",
   "version": "3.7.11"
  }
 },
 "nbformat": 4,
 "nbformat_minor": 5
}
